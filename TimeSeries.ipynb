{
 "cells": [
  {
   "cell_type": "code",
   "execution_count": 1,
   "metadata": {
    "_cell_guid": "b1076dfc-b9ad-4769-8c92-a6c4dae69d19",
    "_uuid": "8f2839f25d086af736a60e9eeb907d3b93b6e0e5"
   },
   "outputs": [],
   "source": [
    "import matplotlib.pyplot as plt \n",
    "import numpy as np\n",
    "import pandas as pd\n",
    "%matplotlib inline"
   ]
  },
  {
   "cell_type": "code",
   "execution_count": 2,
   "metadata": {
    "_cell_guid": "79c7e3d0-c299-4dcb-8224-4455121ee9b0",
    "_uuid": "d629ff2d2480ee46fbb7e2d37f6b5fab8052498a"
   },
   "outputs": [
    {
     "name": "stdout",
     "output_type": "stream",
     "text": [
      "(92016, 5)\n",
      "             FullDate  Tmax   SysLoad  GasPrice  ElecPrice\n",
      "0 2010-09-01 00:00:00  15.8  1688.215      3.69     23.710\n",
      "1 2010-09-01 01:00:00  15.8  1669.195      3.69     22.635\n",
      "2 2010-09-01 02:00:00  15.8  1491.980      3.69     22.565\n",
      "3 2010-09-01 03:00:00  15.8  1330.760      3.69     18.910\n",
      "4 2010-09-01 04:00:00  15.8  1247.940      3.69     18.030\n"
     ]
    },
    {
     "data": {
      "text/html": [
       "<div>\n",
       "<style scoped>\n",
       "    .dataframe tbody tr th:only-of-type {\n",
       "        vertical-align: middle;\n",
       "    }\n",
       "\n",
       "    .dataframe tbody tr th {\n",
       "        vertical-align: top;\n",
       "    }\n",
       "\n",
       "    .dataframe thead th {\n",
       "        text-align: right;\n",
       "    }\n",
       "</style>\n",
       "<table border=\"1\" class=\"dataframe\">\n",
       "  <thead>\n",
       "    <tr style=\"text-align: right;\">\n",
       "      <th></th>\n",
       "      <th>FullDate</th>\n",
       "      <th>Tmax</th>\n",
       "      <th>SysLoad</th>\n",
       "      <th>GasPrice</th>\n",
       "      <th>ElecPrice</th>\n",
       "    </tr>\n",
       "  </thead>\n",
       "  <tbody>\n",
       "    <tr>\n",
       "      <th>92011</th>\n",
       "      <td>2021-02-28 19:00:00</td>\n",
       "      <td>24.3</td>\n",
       "      <td>449.63625</td>\n",
       "      <td>5.4848</td>\n",
       "      <td>117.925</td>\n",
       "    </tr>\n",
       "    <tr>\n",
       "      <th>92012</th>\n",
       "      <td>2021-02-28 20:00:00</td>\n",
       "      <td>24.3</td>\n",
       "      <td>815.59975</td>\n",
       "      <td>5.4848</td>\n",
       "      <td>87.880</td>\n",
       "    </tr>\n",
       "    <tr>\n",
       "      <th>92013</th>\n",
       "      <td>2021-02-28 21:00:00</td>\n",
       "      <td>24.3</td>\n",
       "      <td>745.12325</td>\n",
       "      <td>5.4848</td>\n",
       "      <td>62.060</td>\n",
       "    </tr>\n",
       "    <tr>\n",
       "      <th>92014</th>\n",
       "      <td>2021-02-28 22:00:00</td>\n",
       "      <td>24.3</td>\n",
       "      <td>694.95150</td>\n",
       "      <td>5.4848</td>\n",
       "      <td>62.000</td>\n",
       "    </tr>\n",
       "    <tr>\n",
       "      <th>92015</th>\n",
       "      <td>2021-02-28 23:00:00</td>\n",
       "      <td>24.3</td>\n",
       "      <td>714.69630</td>\n",
       "      <td>5.4848</td>\n",
       "      <td>62.955</td>\n",
       "    </tr>\n",
       "  </tbody>\n",
       "</table>\n",
       "</div>"
      ],
      "text/plain": [
       "                 FullDate  Tmax    SysLoad  GasPrice  ElecPrice\n",
       "92011 2021-02-28 19:00:00  24.3  449.63625    5.4848    117.925\n",
       "92012 2021-02-28 20:00:00  24.3  815.59975    5.4848     87.880\n",
       "92013 2021-02-28 21:00:00  24.3  745.12325    5.4848     62.060\n",
       "92014 2021-02-28 22:00:00  24.3  694.95150    5.4848     62.000\n",
       "92015 2021-02-28 23:00:00  24.3  714.69630    5.4848     62.955"
      ]
     },
     "execution_count": 2,
     "metadata": {},
     "output_type": "execute_result"
    }
   ],
   "source": [
    "# importing dataset\n",
    "dataset = pd.read_csv(r\"C:\\Users\\Nomthandazo\\OneDrive\\Documents\\Hamoye Data Science Internship\\Stage E\\Time_series_analysis_and_forecast_DATASET.csv\",\n",
    "                      parse_dates=['FullDate'])\n",
    "\n",
    "# summarize\n",
    "print(dataset.shape)\n",
    "print(dataset.head())\n",
    "dataset.tail()"
   ]
  },
  {
   "cell_type": "code",
   "execution_count": 3,
   "metadata": {},
   "outputs": [],
   "source": [
    "# replacing ? with NaN\n",
    "dataset.replace('?',np.nan, inplace=True)"
   ]
  },
  {
   "cell_type": "code",
   "execution_count": 4,
   "metadata": {},
   "outputs": [
    {
     "data": {
      "text/html": [
       "<div>\n",
       "<style scoped>\n",
       "    .dataframe tbody tr th:only-of-type {\n",
       "        vertical-align: middle;\n",
       "    }\n",
       "\n",
       "    .dataframe tbody tr th {\n",
       "        vertical-align: top;\n",
       "    }\n",
       "\n",
       "    .dataframe thead th {\n",
       "        text-align: right;\n",
       "    }\n",
       "</style>\n",
       "<table border=\"1\" class=\"dataframe\">\n",
       "  <thead>\n",
       "    <tr style=\"text-align: right;\">\n",
       "      <th></th>\n",
       "      <th>FullDate</th>\n",
       "      <th>Tmax</th>\n",
       "      <th>SysLoad</th>\n",
       "      <th>GasPrice</th>\n",
       "      <th>ElecPrice</th>\n",
       "    </tr>\n",
       "  </thead>\n",
       "  <tbody>\n",
       "    <tr>\n",
       "      <th>91651</th>\n",
       "      <td>2021-02-13 19:00:00</td>\n",
       "      <td>22.8</td>\n",
       "      <td>203.92285</td>\n",
       "      <td>5.7677</td>\n",
       "      <td>34.500</td>\n",
       "    </tr>\n",
       "    <tr>\n",
       "      <th>91652</th>\n",
       "      <td>2021-02-13 20:00:00</td>\n",
       "      <td>22.8</td>\n",
       "      <td>525.94330</td>\n",
       "      <td>5.7677</td>\n",
       "      <td>37.450</td>\n",
       "    </tr>\n",
       "    <tr>\n",
       "      <th>91653</th>\n",
       "      <td>2021-02-13 21:00:00</td>\n",
       "      <td>22.8</td>\n",
       "      <td>606.49485</td>\n",
       "      <td>5.7677</td>\n",
       "      <td>36.735</td>\n",
       "    </tr>\n",
       "    <tr>\n",
       "      <th>91654</th>\n",
       "      <td>2021-02-13 22:00:00</td>\n",
       "      <td>22.8</td>\n",
       "      <td>590.53695</td>\n",
       "      <td>5.7677</td>\n",
       "      <td>34.745</td>\n",
       "    </tr>\n",
       "    <tr>\n",
       "      <th>91655</th>\n",
       "      <td>2021-02-13 23:00:00</td>\n",
       "      <td>22.8</td>\n",
       "      <td>459.19430</td>\n",
       "      <td>5.7677</td>\n",
       "      <td>31.655</td>\n",
       "    </tr>\n",
       "    <tr>\n",
       "      <th>...</th>\n",
       "      <td>...</td>\n",
       "      <td>...</td>\n",
       "      <td>...</td>\n",
       "      <td>...</td>\n",
       "      <td>...</td>\n",
       "    </tr>\n",
       "    <tr>\n",
       "      <th>92011</th>\n",
       "      <td>2021-02-28 19:00:00</td>\n",
       "      <td>24.3</td>\n",
       "      <td>449.63625</td>\n",
       "      <td>5.4848</td>\n",
       "      <td>117.925</td>\n",
       "    </tr>\n",
       "    <tr>\n",
       "      <th>92012</th>\n",
       "      <td>2021-02-28 20:00:00</td>\n",
       "      <td>24.3</td>\n",
       "      <td>815.59975</td>\n",
       "      <td>5.4848</td>\n",
       "      <td>87.880</td>\n",
       "    </tr>\n",
       "    <tr>\n",
       "      <th>92013</th>\n",
       "      <td>2021-02-28 21:00:00</td>\n",
       "      <td>24.3</td>\n",
       "      <td>745.12325</td>\n",
       "      <td>5.4848</td>\n",
       "      <td>62.060</td>\n",
       "    </tr>\n",
       "    <tr>\n",
       "      <th>92014</th>\n",
       "      <td>2021-02-28 22:00:00</td>\n",
       "      <td>24.3</td>\n",
       "      <td>694.95150</td>\n",
       "      <td>5.4848</td>\n",
       "      <td>62.000</td>\n",
       "    </tr>\n",
       "    <tr>\n",
       "      <th>92015</th>\n",
       "      <td>2021-02-28 23:00:00</td>\n",
       "      <td>24.3</td>\n",
       "      <td>714.69630</td>\n",
       "      <td>5.4848</td>\n",
       "      <td>62.955</td>\n",
       "    </tr>\n",
       "  </tbody>\n",
       "</table>\n",
       "<p>365 rows × 5 columns</p>\n",
       "</div>"
      ],
      "text/plain": [
       "                 FullDate  Tmax    SysLoad  GasPrice  ElecPrice\n",
       "91651 2021-02-13 19:00:00  22.8  203.92285    5.7677     34.500\n",
       "91652 2021-02-13 20:00:00  22.8  525.94330    5.7677     37.450\n",
       "91653 2021-02-13 21:00:00  22.8  606.49485    5.7677     36.735\n",
       "91654 2021-02-13 22:00:00  22.8  590.53695    5.7677     34.745\n",
       "91655 2021-02-13 23:00:00  22.8  459.19430    5.7677     31.655\n",
       "...                   ...   ...        ...       ...        ...\n",
       "92011 2021-02-28 19:00:00  24.3  449.63625    5.4848    117.925\n",
       "92012 2021-02-28 20:00:00  24.3  815.59975    5.4848     87.880\n",
       "92013 2021-02-28 21:00:00  24.3  745.12325    5.4848     62.060\n",
       "92014 2021-02-28 22:00:00  24.3  694.95150    5.4848     62.000\n",
       "92015 2021-02-28 23:00:00  24.3  714.69630    5.4848     62.955\n",
       "\n",
       "[365 rows x 5 columns]"
      ]
     },
     "execution_count": 4,
     "metadata": {},
     "output_type": "execute_result"
    }
   ],
   "source": [
    "dataset.tail(365)"
   ]
  },
  {
   "cell_type": "code",
   "execution_count": 5,
   "metadata": {},
   "outputs": [
    {
     "name": "stderr",
     "output_type": "stream",
     "text": [
      "C:\\Users\\NOMTHA~1\\AppData\\Local\\Temp/ipykernel_11232/1519417330.py:1: FutureWarning: Treating datetime data as categorical rather than numeric in `.describe` is deprecated and will be removed in a future version of pandas. Specify `datetime_is_numeric=True` to silence this warning and adopt the future behavior now.\n",
      "  dataset.describe(include='all')\n"
     ]
    },
    {
     "data": {
      "text/html": [
       "<div>\n",
       "<style scoped>\n",
       "    .dataframe tbody tr th:only-of-type {\n",
       "        vertical-align: middle;\n",
       "    }\n",
       "\n",
       "    .dataframe tbody tr th {\n",
       "        vertical-align: top;\n",
       "    }\n",
       "\n",
       "    .dataframe thead th {\n",
       "        text-align: right;\n",
       "    }\n",
       "</style>\n",
       "<table border=\"1\" class=\"dataframe\">\n",
       "  <thead>\n",
       "    <tr style=\"text-align: right;\">\n",
       "      <th></th>\n",
       "      <th>FullDate</th>\n",
       "      <th>Tmax</th>\n",
       "      <th>SysLoad</th>\n",
       "      <th>GasPrice</th>\n",
       "      <th>ElecPrice</th>\n",
       "    </tr>\n",
       "  </thead>\n",
       "  <tbody>\n",
       "    <tr>\n",
       "      <th>count</th>\n",
       "      <td>92016</td>\n",
       "      <td>92016.000000</td>\n",
       "      <td>92016.000000</td>\n",
       "      <td>92016.000000</td>\n",
       "      <td>92016.000000</td>\n",
       "    </tr>\n",
       "    <tr>\n",
       "      <th>unique</th>\n",
       "      <td>92016</td>\n",
       "      <td>NaN</td>\n",
       "      <td>NaN</td>\n",
       "      <td>NaN</td>\n",
       "      <td>NaN</td>\n",
       "    </tr>\n",
       "    <tr>\n",
       "      <th>top</th>\n",
       "      <td>2010-09-01 00:00:00</td>\n",
       "      <td>NaN</td>\n",
       "      <td>NaN</td>\n",
       "      <td>NaN</td>\n",
       "      <td>NaN</td>\n",
       "    </tr>\n",
       "    <tr>\n",
       "      <th>freq</th>\n",
       "      <td>1</td>\n",
       "      <td>NaN</td>\n",
       "      <td>NaN</td>\n",
       "      <td>NaN</td>\n",
       "      <td>NaN</td>\n",
       "    </tr>\n",
       "    <tr>\n",
       "      <th>first</th>\n",
       "      <td>2010-09-01 00:00:00</td>\n",
       "      <td>NaN</td>\n",
       "      <td>NaN</td>\n",
       "      <td>NaN</td>\n",
       "      <td>NaN</td>\n",
       "    </tr>\n",
       "    <tr>\n",
       "      <th>last</th>\n",
       "      <td>2021-02-28 23:00:00</td>\n",
       "      <td>NaN</td>\n",
       "      <td>NaN</td>\n",
       "      <td>NaN</td>\n",
       "      <td>NaN</td>\n",
       "    </tr>\n",
       "    <tr>\n",
       "      <th>mean</th>\n",
       "      <td>NaN</td>\n",
       "      <td>231.696688</td>\n",
       "      <td>797.623357</td>\n",
       "      <td>6.016163</td>\n",
       "      <td>65.798356</td>\n",
       "    </tr>\n",
       "    <tr>\n",
       "      <th>std</th>\n",
       "      <td>NaN</td>\n",
       "      <td>4562.128748</td>\n",
       "      <td>613.520156</td>\n",
       "      <td>2.608116</td>\n",
       "      <td>213.144084</td>\n",
       "    </tr>\n",
       "    <tr>\n",
       "      <th>min</th>\n",
       "      <td>NaN</td>\n",
       "      <td>9.900000</td>\n",
       "      <td>-1596.810100</td>\n",
       "      <td>0.000000</td>\n",
       "      <td>-924.820000</td>\n",
       "    </tr>\n",
       "    <tr>\n",
       "      <th>25%</th>\n",
       "      <td>NaN</td>\n",
       "      <td>17.300000</td>\n",
       "      <td>417.119800</td>\n",
       "      <td>3.936900</td>\n",
       "      <td>31.543750</td>\n",
       "    </tr>\n",
       "    <tr>\n",
       "      <th>50%</th>\n",
       "      <td>NaN</td>\n",
       "      <td>21.900000</td>\n",
       "      <td>856.467925</td>\n",
       "      <td>5.165600</td>\n",
       "      <td>48.715000</td>\n",
       "    </tr>\n",
       "    <tr>\n",
       "      <th>75%</th>\n",
       "      <td>NaN</td>\n",
       "      <td>27.600000</td>\n",
       "      <td>1221.293675</td>\n",
       "      <td>8.023300</td>\n",
       "      <td>76.495000</td>\n",
       "    </tr>\n",
       "    <tr>\n",
       "      <th>max</th>\n",
       "      <td>NaN</td>\n",
       "      <td>99999.900000</td>\n",
       "      <td>3264.166300</td>\n",
       "      <td>29.990000</td>\n",
       "      <td>14700.000000</td>\n",
       "    </tr>\n",
       "  </tbody>\n",
       "</table>\n",
       "</div>"
      ],
      "text/plain": [
       "                   FullDate          Tmax       SysLoad      GasPrice  \\\n",
       "count                 92016  92016.000000  92016.000000  92016.000000   \n",
       "unique                92016           NaN           NaN           NaN   \n",
       "top     2010-09-01 00:00:00           NaN           NaN           NaN   \n",
       "freq                      1           NaN           NaN           NaN   \n",
       "first   2010-09-01 00:00:00           NaN           NaN           NaN   \n",
       "last    2021-02-28 23:00:00           NaN           NaN           NaN   \n",
       "mean                    NaN    231.696688    797.623357      6.016163   \n",
       "std                     NaN   4562.128748    613.520156      2.608116   \n",
       "min                     NaN      9.900000  -1596.810100      0.000000   \n",
       "25%                     NaN     17.300000    417.119800      3.936900   \n",
       "50%                     NaN     21.900000    856.467925      5.165600   \n",
       "75%                     NaN     27.600000   1221.293675      8.023300   \n",
       "max                     NaN  99999.900000   3264.166300     29.990000   \n",
       "\n",
       "           ElecPrice  \n",
       "count   92016.000000  \n",
       "unique           NaN  \n",
       "top              NaN  \n",
       "freq             NaN  \n",
       "first            NaN  \n",
       "last             NaN  \n",
       "mean       65.798356  \n",
       "std       213.144084  \n",
       "min      -924.820000  \n",
       "25%        31.543750  \n",
       "50%        48.715000  \n",
       "75%        76.495000  \n",
       "max     14700.000000  "
      ]
     },
     "execution_count": 5,
     "metadata": {},
     "output_type": "execute_result"
    }
   ],
   "source": [
    "dataset.describe(include='all')"
   ]
  },
  {
   "cell_type": "code",
   "execution_count": 6,
   "metadata": {},
   "outputs": [
    {
     "data": {
      "text/plain": [
       "Text(0, 0.5, 'ElecPrice')"
      ]
     },
     "execution_count": 6,
     "metadata": {},
     "output_type": "execute_result"
    },
    {
     "data": {
      "image/png": "[encoded data removed]",
      "text/plain": [
       "<Figure size 720x432 with 1 Axes>"
      ]
     },
     "metadata": {
      "needs_background": "light"
     },
     "output_type": "display_data"
    }
   ],
   "source": [
    "dataset[ \"FullDate\" ] = pd.to_datetime(dataset[ \"FullDate\" ]) #convert column to datetime\n",
    "dataset.set_index( \"FullDate\" , inplace= True )\n",
    "plt.figure(figsize=( 10 , 6 ))\n",
    "plt.plot(dataset.index, dataset.ElecPrice, '--' , marker= '*' , )\n",
    "plt.grid()\n",
    "plt.xlabel( 'Year' )\n",
    "plt.ylabel( 'ElecPrice' )"
   ]
  },
  {
   "cell_type": "code",
   "execution_count": 7,
   "metadata": {},
   "outputs": [
    {
     "data": {
      "text/plain": [
       "False"
      ]
     },
     "execution_count": 7,
     "metadata": {},
     "output_type": "execute_result"
    }
   ],
   "source": [
    "dataset.isnull().values.any()"
   ]
  },
  {
   "cell_type": "code",
   "execution_count": 8,
   "metadata": {},
   "outputs": [
    {
     "data": {
      "text/plain": [
       "Tmax            0\n",
       "SysLoad         0\n",
       "GasPrice        0\n",
       "ElecPrice    9202\n",
       "dtype: int64"
      ]
     },
     "execution_count": 8,
     "metadata": {},
     "output_type": "execute_result"
    }
   ],
   "source": [
    "dataset_copy = dataset.copy()\n",
    "rows = dataset_copy.sample(frac= 0.1 , random_state= 0 )\n",
    "rows[ 'ElecPrice' ] = np.nan\n",
    "dataset_copy.loc[rows.index, 'ElecPrice' ] = rows[ 'ElecPrice' ]\n",
    "dataset_copy.isnull().sum()"
   ]
  },
  {
   "cell_type": "code",
   "execution_count": 9,
   "metadata": {},
   "outputs": [
    {
     "data": {
      "text/plain": [
       "Tmax         float64\n",
       "SysLoad      float64\n",
       "GasPrice     float64\n",
       "ElecPrice    float64\n",
       "dtype: object"
      ]
     },
     "execution_count": 9,
     "metadata": {},
     "output_type": "execute_result"
    }
   ],
   "source": [
    "dataset.dtypes"
   ]
  },
  {
   "cell_type": "code",
   "execution_count": 10,
   "metadata": {},
   "outputs": [
    {
     "data": {
      "text/plain": [
       "Tmax         0\n",
       "SysLoad      0\n",
       "GasPrice     0\n",
       "ElecPrice    0\n",
       "dtype: int64"
      ]
     },
     "execution_count": 10,
     "metadata": {},
     "output_type": "execute_result"
    }
   ],
   "source": [
    "#Filling missing data by imputation - Forward fill\n",
    "dataset_copy_ffill = dataset_copy.fillna(method= 'ffill' )\n",
    "dataset_copy_ffill.isnull().sum()\n"
   ]
  },
  {
   "cell_type": "code",
   "execution_count": 11,
   "metadata": {},
   "outputs": [
    {
     "data": {
      "text/plain": [
       "Tmax         0\n",
       "SysLoad      0\n",
       "GasPrice     0\n",
       "ElecPrice    0\n",
       "dtype: int64"
      ]
     },
     "execution_count": 11,
     "metadata": {},
     "output_type": "execute_result"
    }
   ],
   "source": [
    "#Filling missing data by imputation - Backward fill\n",
    "dataset_copy_bfill = dataset_copy.fillna(method= 'bfill' )\n",
    "dataset_copy_bfill.isnull().sum()"
   ]
  },
  {
   "cell_type": "code",
   "execution_count": 12,
   "metadata": {},
   "outputs": [
    {
     "data": {
      "text/plain": [
       "Tmax         0\n",
       "SysLoad      0\n",
       "GasPrice     0\n",
       "ElecPrice    0\n",
       "dtype: int64"
      ]
     },
     "execution_count": 12,
     "metadata": {},
     "output_type": "execute_result"
    }
   ],
   "source": [
    "#Filling missing data by interpolation\n",
    "dataset_copy_LIF = dataset_copy.interpolate(method= 'linear' , limit_direction= 'forward' )\n",
    "dataset_copy_LIF.isnull().sum()\n",
    "dataset_copy_LIB = dataset_copy.interpolate(method= 'linear' , limit_direction= 'backward' )\n",
    "dataset_copy_LIB.isnull().sum()"
   ]
  },
  {
   "cell_type": "code",
   "execution_count": 13,
   "metadata": {},
   "outputs": [
    {
     "data": {
      "text/html": [
       "<div>\n",
       "<style scoped>\n",
       "    .dataframe tbody tr th:only-of-type {\n",
       "        vertical-align: middle;\n",
       "    }\n",
       "\n",
       "    .dataframe tbody tr th {\n",
       "        vertical-align: top;\n",
       "    }\n",
       "\n",
       "    .dataframe thead th {\n",
       "        text-align: right;\n",
       "    }\n",
       "</style>\n",
       "<table border=\"1\" class=\"dataframe\">\n",
       "  <thead>\n",
       "    <tr style=\"text-align: right;\">\n",
       "      <th></th>\n",
       "      <th>Tmax</th>\n",
       "      <th>SysLoad</th>\n",
       "      <th>GasPrice</th>\n",
       "      <th>ElecPrice</th>\n",
       "    </tr>\n",
       "    <tr>\n",
       "      <th>FullDate</th>\n",
       "      <th></th>\n",
       "      <th></th>\n",
       "      <th></th>\n",
       "      <th></th>\n",
       "    </tr>\n",
       "  </thead>\n",
       "  <tbody>\n",
       "    <tr>\n",
       "      <th>2010-09-01</th>\n",
       "      <td>379.2</td>\n",
       "      <td>41565.38000</td>\n",
       "      <td>88.5600</td>\n",
       "      <td>2751.700</td>\n",
       "    </tr>\n",
       "    <tr>\n",
       "      <th>2010-09-02</th>\n",
       "      <td>369.6</td>\n",
       "      <td>38898.99000</td>\n",
       "      <td>88.5600</td>\n",
       "      <td>570.810</td>\n",
       "    </tr>\n",
       "    <tr>\n",
       "      <th>2010-09-03</th>\n",
       "      <td>439.2</td>\n",
       "      <td>41665.76000</td>\n",
       "      <td>106.8000</td>\n",
       "      <td>504.975</td>\n",
       "    </tr>\n",
       "    <tr>\n",
       "      <th>2010-09-04</th>\n",
       "      <td>328.8</td>\n",
       "      <td>35638.08500</td>\n",
       "      <td>81.3600</td>\n",
       "      <td>502.275</td>\n",
       "    </tr>\n",
       "    <tr>\n",
       "      <th>2010-09-05</th>\n",
       "      <td>357.6</td>\n",
       "      <td>35611.41000</td>\n",
       "      <td>106.8000</td>\n",
       "      <td>500.555</td>\n",
       "    </tr>\n",
       "    <tr>\n",
       "      <th>...</th>\n",
       "      <td>...</td>\n",
       "      <td>...</td>\n",
       "      <td>...</td>\n",
       "      <td>...</td>\n",
       "    </tr>\n",
       "    <tr>\n",
       "      <th>2021-02-24</th>\n",
       "      <td>537.6</td>\n",
       "      <td>-1525.49745</td>\n",
       "      <td>134.4000</td>\n",
       "      <td>634.770</td>\n",
       "    </tr>\n",
       "    <tr>\n",
       "      <th>2021-02-25</th>\n",
       "      <td>518.4</td>\n",
       "      <td>4539.07855</td>\n",
       "      <td>130.5048</td>\n",
       "      <td>577.515</td>\n",
       "    </tr>\n",
       "    <tr>\n",
       "      <th>2021-02-26</th>\n",
       "      <td>547.2</td>\n",
       "      <td>9517.02430</td>\n",
       "      <td>130.1808</td>\n",
       "      <td>1445.495</td>\n",
       "    </tr>\n",
       "    <tr>\n",
       "      <th>2021-02-27</th>\n",
       "      <td>564.0</td>\n",
       "      <td>4932.88015</td>\n",
       "      <td>130.0800</td>\n",
       "      <td>488.980</td>\n",
       "    </tr>\n",
       "    <tr>\n",
       "      <th>2021-02-28</th>\n",
       "      <td>583.2</td>\n",
       "      <td>6675.05485</td>\n",
       "      <td>131.6352</td>\n",
       "      <td>-98.985</td>\n",
       "    </tr>\n",
       "  </tbody>\n",
       "</table>\n",
       "<p>3834 rows × 4 columns</p>\n",
       "</div>"
      ],
      "text/plain": [
       "             Tmax      SysLoad  GasPrice  ElecPrice\n",
       "FullDate                                           \n",
       "2010-09-01  379.2  41565.38000   88.5600   2751.700\n",
       "2010-09-02  369.6  38898.99000   88.5600    570.810\n",
       "2010-09-03  439.2  41665.76000  106.8000    504.975\n",
       "2010-09-04  328.8  35638.08500   81.3600    502.275\n",
       "2010-09-05  357.6  35611.41000  106.8000    500.555\n",
       "...           ...          ...       ...        ...\n",
       "2021-02-24  537.6  -1525.49745  134.4000    634.770\n",
       "2021-02-25  518.4   4539.07855  130.5048    577.515\n",
       "2021-02-26  547.2   9517.02430  130.1808   1445.495\n",
       "2021-02-27  564.0   4932.88015  130.0800    488.980\n",
       "2021-02-28  583.2   6675.05485  131.6352    -98.985\n",
       "\n",
       "[3834 rows x 4 columns]"
      ]
     },
     "execution_count": 13,
     "metadata": {},
     "output_type": "execute_result"
    }
   ],
   "source": [
    "# Resampling \"Daily\"\n",
    "dataset_daily = dataset.resample('D').sum()\n",
    "dataset_daily"
   ]
  },
  {
   "cell_type": "code",
   "execution_count": 14,
   "metadata": {},
   "outputs": [
    {
     "name": "stdout",
     "output_type": "stream",
     "text": [
      "ADF Statistic: {adf_result[ 0 ]}\n",
      "p-value: {adf_result[ 1 ]}\n",
      "No. of lags used: {adf_result[ 2 ]}\n",
      "No. of observations used : {adf_result[ 3 ]}\n",
      "Critical Values:\n"
     ]
    }
   ],
   "source": [
    "from statsmodels.tsa.stattools import adfuller\n",
    "adf_result = adfuller(dataset['SysLoad' ])\n",
    "print('ADF Statistic: {adf_result[ 0 ]}' )\n",
    "print('p-value: {adf_result[ 1 ]}' )\n",
    "print('No. of lags used: {adf_result[ 2 ]}' )\n",
    "print('No. of observations used : {adf_result[ 3 ]}' )\n",
    "print('Critical Values:' )\n",
    "\n"
   ]
  },
  {
   "cell_type": "code",
   "execution_count": 15,
   "metadata": {},
   "outputs": [
    {
     "data": {
      "text/plain": [
       "[<matplotlib.lines.Line2D at 0x14200b92340>,\n",
       " <matplotlib.lines.Line2D at 0x14200b922e0>,\n",
       " <matplotlib.lines.Line2D at 0x14200b92640>,\n",
       " <matplotlib.lines.Line2D at 0x14200b92760>]"
      ]
     },
     "execution_count": 15,
     "metadata": {},
     "output_type": "execute_result"
    },
    {
     "data": {
      "image/png": "[encoded data removed]",
      "text/plain": [
       "<Figure size 432x288 with 1 Axes>"
      ]
     },
     "metadata": {
      "needs_background": "light"
     },
     "output_type": "display_data"
    }
   ],
   "source": [
    "#Convert time series to stationary by removing trend and seasonality\n",
    "#Transformation and Differencing\n",
    "dataset_log = np.log(dataset)\n",
    "dataset_diff = dataset_log.diff(periods= 1 )\n",
    "plt.plot(dataset_diff.index, dataset_diff.SysLoad, '-' )\n",
    "plt.plot(dataset_diff.rolling( 12 ).mean(), color= 'red' )"
   ]
  },
  {
   "cell_type": "code",
   "execution_count": 16,
   "metadata": {},
   "outputs": [
    {
     "data": {
      "text/html": [
       "<div>\n",
       "<style scoped>\n",
       "    .dataframe tbody tr th:only-of-type {\n",
       "        vertical-align: middle;\n",
       "    }\n",
       "\n",
       "    .dataframe tbody tr th {\n",
       "        vertical-align: top;\n",
       "    }\n",
       "\n",
       "    .dataframe thead th {\n",
       "        text-align: right;\n",
       "    }\n",
       "</style>\n",
       "<table border=\"1\" class=\"dataframe\">\n",
       "  <thead>\n",
       "    <tr style=\"text-align: right;\">\n",
       "      <th></th>\n",
       "      <th>Tmax</th>\n",
       "      <th>SysLoad</th>\n",
       "      <th>GasPrice</th>\n",
       "      <th>ElecPrice</th>\n",
       "    </tr>\n",
       "  </thead>\n",
       "  <tbody>\n",
       "    <tr>\n",
       "      <th>Tmax</th>\n",
       "      <td>1.000000</td>\n",
       "      <td>-0.009796</td>\n",
       "      <td>0.030173</td>\n",
       "      <td>0.002126</td>\n",
       "    </tr>\n",
       "    <tr>\n",
       "      <th>SysLoad</th>\n",
       "      <td>-0.009796</td>\n",
       "      <td>1.000000</td>\n",
       "      <td>-0.214574</td>\n",
       "      <td>0.138690</td>\n",
       "    </tr>\n",
       "    <tr>\n",
       "      <th>GasPrice</th>\n",
       "      <td>0.030173</td>\n",
       "      <td>-0.214574</td>\n",
       "      <td>1.000000</td>\n",
       "      <td>0.157768</td>\n",
       "    </tr>\n",
       "    <tr>\n",
       "      <th>ElecPrice</th>\n",
       "      <td>0.002126</td>\n",
       "      <td>0.138690</td>\n",
       "      <td>0.157768</td>\n",
       "      <td>1.000000</td>\n",
       "    </tr>\n",
       "  </tbody>\n",
       "</table>\n",
       "</div>"
      ],
      "text/plain": [
       "               Tmax   SysLoad  GasPrice  ElecPrice\n",
       "Tmax       1.000000 -0.009796  0.030173   0.002126\n",
       "SysLoad   -0.009796  1.000000 -0.214574   0.138690\n",
       "GasPrice   0.030173 -0.214574  1.000000   0.157768\n",
       "ElecPrice  0.002126  0.138690  0.157768   1.000000"
      ]
     },
     "execution_count": 16,
     "metadata": {},
     "output_type": "execute_result"
    }
   ],
   "source": [
    "# Checking the correlation\n",
    "\n",
    "dataset.corr()"
   ]
  },
  {
   "cell_type": "code",
   "execution_count": 17,
   "metadata": {},
   "outputs": [
    {
     "data": {
      "text/plain": [
       "FullDate     datetime64[ns]\n",
       "Tmax                float64\n",
       "SysLoad             float64\n",
       "GasPrice            float64\n",
       "ElecPrice           float64\n",
       "dtype: object"
      ]
     },
     "execution_count": 17,
     "metadata": {},
     "output_type": "execute_result"
    }
   ],
   "source": [
    "dataset_daily.reset_index(inplace=True)\n",
    "\n",
    "x_test = dataset_daily.tail(365)\n",
    "x_train = dataset_daily[:-365]\n",
    "\n",
    "dataset_daily.dtypes"
   ]
  },
  {
   "cell_type": "code",
   "execution_count": 18,
   "metadata": {},
   "outputs": [
    {
     "ename": "KeyError",
     "evalue": "\"['datetime'] not in index\"",
     "output_type": "error",
     "traceback": [
      "\u001b[1;31m---------------------------------------------------------------------------\u001b[0m",
      "\u001b[1;31mKeyError\u001b[0m                                  Traceback (most recent call last)",
      "\u001b[1;32mC:\\Users\\NOMTHA~1\\AppData\\Local\\Temp/ipykernel_11232/3045698243.py\u001b[0m in \u001b[0;36m<module>\u001b[1;34m\u001b[0m\n\u001b[0;32m      1\u001b[0m \u001b[1;31m# Preparing the data for univariate analysis\u001b[0m\u001b[1;33m\u001b[0m\u001b[1;33m\u001b[0m\u001b[0m\n\u001b[1;32m----> 2\u001b[1;33m \u001b[0mdataset_uni\u001b[0m \u001b[1;33m=\u001b[0m \u001b[0mdataset_daily\u001b[0m\u001b[1;33m[\u001b[0m\u001b[1;33m[\u001b[0m\u001b[1;34m'datetime'\u001b[0m\u001b[1;33m,\u001b[0m\u001b[1;34m'ElecPrice'\u001b[0m\u001b[1;33m]\u001b[0m\u001b[1;33m]\u001b[0m\u001b[1;33m\u001b[0m\u001b[1;33m\u001b[0m\u001b[0m\n\u001b[0m\u001b[0;32m      3\u001b[0m \u001b[1;33m\u001b[0m\u001b[0m\n\u001b[0;32m      4\u001b[0m \u001b[1;31m# making a new dataframe from df_daily2 by renaming the columns\u001b[0m\u001b[1;33m\u001b[0m\u001b[1;33m\u001b[0m\u001b[0m\n\u001b[0;32m      5\u001b[0m \u001b[0mnew_dataset\u001b[0m \u001b[1;33m=\u001b[0m \u001b[0mdataset_uni\u001b[0m\u001b[1;33m.\u001b[0m\u001b[0mrename\u001b[0m\u001b[1;33m(\u001b[0m\u001b[0mcolumns\u001b[0m\u001b[1;33m=\u001b[0m\u001b[1;33m{\u001b[0m\u001b[1;34m\"datetime\"\u001b[0m\u001b[1;33m:\u001b[0m \u001b[1;34m\"ds\"\u001b[0m\u001b[1;33m,\u001b[0m \u001b[1;34m\"ElecPrice\"\u001b[0m\u001b[1;33m:\u001b[0m \u001b[1;34m\"y\"\u001b[0m\u001b[1;33m}\u001b[0m\u001b[1;33m)\u001b[0m\u001b[1;33m\u001b[0m\u001b[1;33m\u001b[0m\u001b[0m\n",
      "\u001b[1;32m~\\desktop\\anaconda3\\lib\\site-packages\\pandas\\core\\frame.py\u001b[0m in \u001b[0;36m__getitem__\u001b[1;34m(self, key)\u001b[0m\n\u001b[0;32m   3462\u001b[0m             \u001b[1;32mif\u001b[0m \u001b[0mis_iterator\u001b[0m\u001b[1;33m(\u001b[0m\u001b[0mkey\u001b[0m\u001b[1;33m)\u001b[0m\u001b[1;33m:\u001b[0m\u001b[1;33m\u001b[0m\u001b[1;33m\u001b[0m\u001b[0m\n\u001b[0;32m   3463\u001b[0m                 \u001b[0mkey\u001b[0m \u001b[1;33m=\u001b[0m \u001b[0mlist\u001b[0m\u001b[1;33m(\u001b[0m\u001b[0mkey\u001b[0m\u001b[1;33m)\u001b[0m\u001b[1;33m\u001b[0m\u001b[1;33m\u001b[0m\u001b[0m\n\u001b[1;32m-> 3464\u001b[1;33m             \u001b[0mindexer\u001b[0m \u001b[1;33m=\u001b[0m \u001b[0mself\u001b[0m\u001b[1;33m.\u001b[0m\u001b[0mloc\u001b[0m\u001b[1;33m.\u001b[0m\u001b[0m_get_listlike_indexer\u001b[0m\u001b[1;33m(\u001b[0m\u001b[0mkey\u001b[0m\u001b[1;33m,\u001b[0m \u001b[0maxis\u001b[0m\u001b[1;33m=\u001b[0m\u001b[1;36m1\u001b[0m\u001b[1;33m)\u001b[0m\u001b[1;33m[\u001b[0m\u001b[1;36m1\u001b[0m\u001b[1;33m]\u001b[0m\u001b[1;33m\u001b[0m\u001b[1;33m\u001b[0m\u001b[0m\n\u001b[0m\u001b[0;32m   3465\u001b[0m \u001b[1;33m\u001b[0m\u001b[0m\n\u001b[0;32m   3466\u001b[0m         \u001b[1;31m# take() does not accept boolean indexers\u001b[0m\u001b[1;33m\u001b[0m\u001b[1;33m\u001b[0m\u001b[0m\n",
      "\u001b[1;32m~\\desktop\\anaconda3\\lib\\site-packages\\pandas\\core\\indexing.py\u001b[0m in \u001b[0;36m_get_listlike_indexer\u001b[1;34m(self, key, axis)\u001b[0m\n\u001b[0;32m   1312\u001b[0m             \u001b[0mkeyarr\u001b[0m\u001b[1;33m,\u001b[0m \u001b[0mindexer\u001b[0m\u001b[1;33m,\u001b[0m \u001b[0mnew_indexer\u001b[0m \u001b[1;33m=\u001b[0m \u001b[0max\u001b[0m\u001b[1;33m.\u001b[0m\u001b[0m_reindex_non_unique\u001b[0m\u001b[1;33m(\u001b[0m\u001b[0mkeyarr\u001b[0m\u001b[1;33m)\u001b[0m\u001b[1;33m\u001b[0m\u001b[1;33m\u001b[0m\u001b[0m\n\u001b[0;32m   1313\u001b[0m \u001b[1;33m\u001b[0m\u001b[0m\n\u001b[1;32m-> 1314\u001b[1;33m         \u001b[0mself\u001b[0m\u001b[1;33m.\u001b[0m\u001b[0m_validate_read_indexer\u001b[0m\u001b[1;33m(\u001b[0m\u001b[0mkeyarr\u001b[0m\u001b[1;33m,\u001b[0m \u001b[0mindexer\u001b[0m\u001b[1;33m,\u001b[0m \u001b[0maxis\u001b[0m\u001b[1;33m)\u001b[0m\u001b[1;33m\u001b[0m\u001b[1;33m\u001b[0m\u001b[0m\n\u001b[0m\u001b[0;32m   1315\u001b[0m \u001b[1;33m\u001b[0m\u001b[0m\n\u001b[0;32m   1316\u001b[0m         if needs_i8_conversion(ax.dtype) or isinstance(\n",
      "\u001b[1;32m~\\desktop\\anaconda3\\lib\\site-packages\\pandas\\core\\indexing.py\u001b[0m in \u001b[0;36m_validate_read_indexer\u001b[1;34m(self, key, indexer, axis)\u001b[0m\n\u001b[0;32m   1375\u001b[0m \u001b[1;33m\u001b[0m\u001b[0m\n\u001b[0;32m   1376\u001b[0m             \u001b[0mnot_found\u001b[0m \u001b[1;33m=\u001b[0m \u001b[0mlist\u001b[0m\u001b[1;33m(\u001b[0m\u001b[0mensure_index\u001b[0m\u001b[1;33m(\u001b[0m\u001b[0mkey\u001b[0m\u001b[1;33m)\u001b[0m\u001b[1;33m[\u001b[0m\u001b[0mmissing_mask\u001b[0m\u001b[1;33m.\u001b[0m\u001b[0mnonzero\u001b[0m\u001b[1;33m(\u001b[0m\u001b[1;33m)\u001b[0m\u001b[1;33m[\u001b[0m\u001b[1;36m0\u001b[0m\u001b[1;33m]\u001b[0m\u001b[1;33m]\u001b[0m\u001b[1;33m.\u001b[0m\u001b[0munique\u001b[0m\u001b[1;33m(\u001b[0m\u001b[1;33m)\u001b[0m\u001b[1;33m)\u001b[0m\u001b[1;33m\u001b[0m\u001b[1;33m\u001b[0m\u001b[0m\n\u001b[1;32m-> 1377\u001b[1;33m             \u001b[1;32mraise\u001b[0m \u001b[0mKeyError\u001b[0m\u001b[1;33m(\u001b[0m\u001b[1;34mf\"{not_found} not in index\"\u001b[0m\u001b[1;33m)\u001b[0m\u001b[1;33m\u001b[0m\u001b[1;33m\u001b[0m\u001b[0m\n\u001b[0m\u001b[0;32m   1378\u001b[0m \u001b[1;33m\u001b[0m\u001b[0m\n\u001b[0;32m   1379\u001b[0m \u001b[1;33m\u001b[0m\u001b[0m\n",
      "\u001b[1;31mKeyError\u001b[0m: \"['datetime'] not in index\""
     ]
    }
   ],
   "source": [
    "# Preparing the data for univariate analysis\n",
    "dataset_uni = dataset_daily[['datetime','ElecPrice']]\n",
    "\n",
    "# making a new dataframe from df_daily2 by renaming the columns\n",
    "new_dataset = dataset_uni.rename(columns={\"datetime\": \"ds\", \"ElecPrice\": \"y\"})"
   ]
  },
  {
   "cell_type": "code",
   "execution_count": null,
   "metadata": {},
   "outputs": [],
   "source": [
    "from fbprophet import Prophet\n",
    "x_test_uni = new_dataset.tail(365)\n",
    "x_train_uni = new_dataset[:-365]"
   ]
  },
  {
   "cell_type": "code",
   "execution_count": null,
   "metadata": {},
   "outputs": [],
   "source": [
    "# building the model\n",
    "model = Prophet()"
   ]
  },
  {
   "cell_type": "code",
   "execution_count": null,
   "metadata": {},
   "outputs": [],
   "source": [
    "# fitting the model\n",
    "model.fit(x_train_uni)"
   ]
  },
  {
   "cell_type": "code",
   "execution_count": null,
   "metadata": {},
   "outputs": [],
   "source": [
    "# predicting the test data\n",
    "\n",
    "future = model.make_future_dataframe(periods=365 , freq= 'D' )\n",
    "result_uni = model.predict(future)"
   ]
  },
  {
   "cell_type": "code",
   "execution_count": null,
   "metadata": {},
   "outputs": [],
   "source": [
    "result_uni.shape"
   ]
  },
  {
   "cell_type": "code",
   "execution_count": null,
   "metadata": {},
   "outputs": [],
   "source": [
    "result_uni.head()"
   ]
  },
  {
   "cell_type": "code",
   "execution_count": null,
   "metadata": {},
   "outputs": [],
   "source": [
    "# Plotting the Graph\n",
    "model.plot(result_uni)\n",
    "plt.show()"
   ]
  },
  {
   "cell_type": "code",
   "execution_count": null,
   "metadata": {},
   "outputs": [],
   "source": [
    "def mean_absolute_percentage_error(y_true, y_pred): \n",
    "    y_true, y_pred = np.array(y_true), np.array(y_pred)\n",
    "    return np.mean(np.abs((y_true - y_pred) / y_true)) * 100"
   ]
  },
  {
   "cell_type": "code",
   "execution_count": null,
   "metadata": {},
   "outputs": [],
   "source": [
    "# MAPE Value\n",
    "mean_absolute_percentage_error(x_test_uni['y'], result_uni['yhat'][-365:])"
   ]
  },
  {
   "cell_type": "code",
   "execution_count": null,
   "metadata": {},
   "outputs": [],
   "source": [
    "# RMSE Calculation\n",
    "from sklearn.metrics import mean_squared_error\n",
    "from math import sqrt\n",
    "\n",
    "rmse = sqrt(mean_squared_error(x_test_uni['y'], result_uni['yhat'][-365:]))\n",
    "print(rmse)"
   ]
  },
  {
   "cell_type": "code",
   "execution_count": null,
   "metadata": {},
   "outputs": [],
   "source": [
    "import statsmodels.api as sm\n",
    "from pylab import rcParams\n",
    "rcParams['figure.figsize']= 15,8"
   ]
  },
  {
   "cell_type": "code",
   "execution_count": null,
   "metadata": {},
   "outputs": [],
   "source": [
    "plt.plot(result_uni['ds'],result_uni['yearly'])\n",
    "plt.show()"
   ]
  },
  {
   "cell_type": "code",
   "execution_count": null,
   "metadata": {},
   "outputs": [],
   "source": [
    "model.plot_components(result_uni)"
   ]
  },
  {
   "cell_type": "markdown",
   "metadata": {},
   "source": [
    "Min is at August"
   ]
  },
  {
   "cell_type": "code",
   "execution_count": null,
   "metadata": {},
   "outputs": [],
   "source": [
    "new_dataset = dataset_daily.copy()\n",
    "# making a new dataframe from df_daily & renaming the columns\n",
    "\n",
    "new_dataset_mul= new_dataset.rename(columns={\"datetime\": \"ds\", \"Global_active_power\": \"y\",\"Global_reactive_power\": \"add1\",\"Voltage\": \"add2\",\"Global_intensity\": \"add3\",\"Sub_metering_1\": \"add4\",\"Sub_metering_2\": \"add5\",\"Sub_metering_3\": \"add6\"})"
   ]
  },
  {
   "cell_type": "code",
   "execution_count": null,
   "metadata": {},
   "outputs": [],
   "source": [
    "# Train Test Split\n",
    "x_test_multi = new_dataset_mul.tail(365)\n",
    "x_train_multi = new_dataset_mul[:-365]"
   ]
  },
  {
   "cell_type": "code",
   "execution_count": null,
   "metadata": {},
   "outputs": [],
   "source": [
    "print(x_train_multi)"
   ]
  },
  {
   "cell_type": "code",
   "execution_count": null,
   "metadata": {},
   "outputs": [],
   "source": [
    "# Building Model - Prophet & Adding regressors\n",
    "model_multi = Prophet()\n",
    "model_multi.add_regressor('add1')\n",
    "model_multi.add_regressor('add2')\n",
    "model_multi.add_regressor('add3')\n",
    "model_multi.add_regressor('add4')\n",
    "model_multi.add_regressor('add5')\n",
    "model_multi.add_regressor('add6')"
   ]
  },
  {
   "cell_type": "code",
   "execution_count": null,
   "metadata": {},
   "outputs": [],
   "source": [
    "model_multi.fit(x_train_multi)"
   ]
  },
  {
   "cell_type": "code",
   "execution_count": null,
   "metadata": {},
   "outputs": [],
   "source": [
    "future_multi = model_multi.make_future_dataframe(periods=365,freq='D')\n",
    "future_multi['add1'] = new_df_mul['add1'].values\n",
    "future_multi['add2'] = new_df_mul['add2'].values\n",
    "future_multi['add3'] = new_df_mul['add3'].values\n",
    "future_multi['add4'] = new_df_mul['add4'].values\n",
    "future_multi['add5'] = new_df_mul['add5'].values\n",
    "future_multi['add6'] = new_df_mul['add6'].values\n",
    "result_multi= model_multi.predict(future_multi)"
   ]
  },
  {
   "cell_type": "code",
   "execution_count": null,
   "metadata": {},
   "outputs": [],
   "source": [
    "future_multi.shape"
   ]
  },
  {
   "cell_type": "code",
   "execution_count": null,
   "metadata": {},
   "outputs": [],
   "source": [
    "model_multi.plot(result_multi)\n",
    "plt.show()"
   ]
  },
  {
   "cell_type": "code",
   "execution_count": null,
   "metadata": {},
   "outputs": [],
   "source": [
    "# MAPE\n",
    "mean_absolute_percentage_error( x_test_multi['y'][-365:], result_multi['yhat'][-365:])"
   ]
  },
  {
   "cell_type": "code",
   "execution_count": null,
   "metadata": {},
   "outputs": [],
   "source": [
    "# RMSE\n",
    "rmse_multi = sqrt(mean_squared_error( x_test_multi['y'][-365:], result_multi['yhat'][-365:]))\n",
    "print(rmse_multi)"
   ]
  },
  {
   "cell_type": "code",
   "execution_count": null,
   "metadata": {},
   "outputs": [],
   "source": [
    "print(x_train_uni)"
   ]
  },
  {
   "cell_type": "code",
   "execution_count": null,
   "metadata": {},
   "outputs": [],
   "source": [
    "print(x_train_multi)"
   ]
  },
  {
   "cell_type": "code",
   "execution_count": null,
   "metadata": {},
   "outputs": [],
   "source": [
    "model_multi.plot_components(result_multi)"
   ]
  }
 ],
 "metadata": {
  "kernelspec": {
   "display_name": "Python 3 (ipykernel)",
   "language": "python",
   "name": "python3"
  },
  "language_info": {
   "codemirror_mode": {
    "name": "ipython",
    "version": 3
   },
   "file_extension": ".py",
   "mimetype": "text/x-python",
   "name": "python",
   "nbconvert_exporter": "python",
   "pygments_lexer": "ipython3",
   "version": "3.9.7"
  }
 },
 "nbformat": 4,
 "nbformat_minor": 4
}
